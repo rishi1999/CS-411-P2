{
 "cells": [
  {
   "cell_type": "code",
   "execution_count": 6,
   "id": "5f7f5105-cb7c-4afe-a2a1-8f72a2df980f",
   "metadata": {},
   "outputs": [],
   "source": [
    "import sklearn.metrics as metrics"
   ]
  },
  {
   "cell_type": "code",
   "execution_count": 7,
   "id": "4330821b",
   "metadata": {},
   "outputs": [],
   "source": [
    "def read_file_1(filename):\n",
    "    y_score = []\n",
    "    with open(filename) as f:\n",
    "        lines = f.readlines()\n",
    "        for line in lines:\n",
    "            line = line.strip().split(',')\n",
    "            y_score.append(float(line[1]))\n",
    "    return y_score"
   ]
  },
  {
   "cell_type": "code",
   "execution_count": 8,
   "id": "4bf8fb41",
   "metadata": {},
   "outputs": [],
   "source": [
    "def read_file_2(filename):\n",
    "    y_true = []\n",
    "    with open(filename) as f:\n",
    "        lines = f.readlines()\n",
    "        for line in lines:\n",
    "            line = line.split(',')\n",
    "            if line[1].strip() == 'P':\n",
    "                res = 1\n",
    "            elif line[1].strip() == 'N':\n",
    "                res = 0\n",
    "            y_true.append(res)\n",
    "    return y_true"
   ]
  },
  {
   "cell_type": "code",
   "execution_count": 9,
   "id": "083980f8",
   "metadata": {},
   "outputs": [],
   "source": [
    "def tpr_fpr(y_true, y_score, threshold):\n",
    "    tp = 0\n",
    "    fn = 0\n",
    "    fp = 0\n",
    "    tn = 0\n",
    "    tpr = []\n",
    "    fpr = []\n",
    "\n",
    "    for i in range(len(y_score)):\n",
    "        if y_score[i] >= threshold:  # classified positive \n",
    "            if y_true[i] == 1:\n",
    "                tp += 1\n",
    "            else:\n",
    "                fp += 1\n",
    "        else:  # classified negative\n",
    "            if y_true[i] == 1:\n",
    "                fn += 1\n",
    "            else:\n",
    "                tn += 1\n",
    "    \n",
    "    tpr = tp/(tp+fn)\n",
    "    fpr = fp/(tn+fp)\n",
    "    \n",
    "    return (fpr, tpr)"
   ]
  },
  {
   "cell_type": "code",
   "execution_count": 10,
   "id": "c89093f7",
   "metadata": {},
   "outputs": [],
   "source": [
    "def auc(y_true, y_score):\n",
    "    x = []\n",
    "    y = []\n",
    "    for i in range(0, 100):\n",
    "        x.append(tpr_fpr(y_true, y_score, i/100)[0])\n",
    "        y.append(tpr_fpr(y_true, y_score, i/100)[1])\n",
    "    auc = metrics.auc(x, y)\n",
    "    return auc"
   ]
  },
  {
   "cell_type": "code",
   "execution_count": 11,
   "id": "697fbd42",
   "metadata": {},
   "outputs": [
    {
     "data": {
      "text/plain": [
       "0.8333333333333333"
      ]
     },
     "execution_count": 11,
     "metadata": {},
     "output_type": "execute_result"
    }
   ],
   "source": [
    "y_score = read_file_1('3.txt') # first file (predictions)\n",
    "y_true = read_file_2('4.txt') # second file (true labels)\n",
    "auc(y_true, y_score)"
   ]
  },
  {
   "cell_type": "code",
   "execution_count": null,
   "id": "4629b22d-f1d8-4641-9055-edc0b5290581",
   "metadata": {},
   "outputs": [],
   "source": []
  }
 ],
 "metadata": {
  "kernelspec": {
   "display_name": "Python [conda env:cs411]",
   "language": "python",
   "name": "conda-env-cs411-py"
  },
  "language_info": {
   "codemirror_mode": {
    "name": "ipython",
    "version": 3
   },
   "file_extension": ".py",
   "mimetype": "text/x-python",
   "name": "python",
   "nbconvert_exporter": "python",
   "pygments_lexer": "ipython3",
   "version": "3.10.2"
  }
 },
 "nbformat": 4,
 "nbformat_minor": 5
}
