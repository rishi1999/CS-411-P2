{
 "cells": [
  {
   "cell_type": "code",
   "execution_count": 39,
   "id": "4330821b",
   "metadata": {},
   "outputs": [],
   "source": [
    "# process file 1\n",
    "# extract probabilities of being positive\n",
    "\n",
    "def read_file_1(filename):\n",
    "    y_score = []\n",
    "    with open(filename) as f:\n",
    "        lines = f.readlines()\n",
    "        for line in lines:\n",
    "            line = line.strip().split(',')\n",
    "            y_score.append(float(line[1]))\n",
    "    return y_score"
   ]
  },
  {
   "cell_type": "code",
   "execution_count": 40,
   "id": "4bf8fb41",
   "metadata": {},
   "outputs": [],
   "source": [
    "# process file 2\n",
    "# extract ground-truth labels (P or N)\n",
    "\n",
    "def read_file_2(filename):\n",
    "    y_true = []\n",
    "    with open(filename) as f:\n",
    "        lines = f.readlines()\n",
    "        for line in lines:\n",
    "            class_ = line.split(',')[1].strip()\n",
    "            if class_ == 'P':\n",
    "                res = 1\n",
    "            elif class_ == 'N':\n",
    "                res = 0\n",
    "            y_true.append(res)\n",
    "    return y_true"
   ]
  },
  {
   "cell_type": "code",
   "execution_count": 41,
   "id": "083980f8",
   "metadata": {},
   "outputs": [],
   "source": [
    "# calculates true positive rate (tpr) and false positive rate (fpr)\n",
    "\n",
    "def tpr_fpr(y_true, y_score, threshold):\n",
    "    tp = 0\n",
    "    fn = 0\n",
    "    fp = 0\n",
    "    tn = 0\n",
    "    tpr = []\n",
    "    fpr = []\n",
    "\n",
    "    for i in range(len(y_score)):\n",
    "        if y_score[i] >= threshold: # classified positive \n",
    "            if y_true[i] == 1:\n",
    "                tp += 1\n",
    "            else:\n",
    "                fp += 1\n",
    "        elif y_score[i] < threshold: # classified negative\n",
    "            if y_true[i] == 1:\n",
    "                fn += 1\n",
    "            else:\n",
    "                tn += 1\n",
    "    \n",
    "    tpr = tp/(tp+fn)\n",
    "    fpr = fp/(tn+fp)\n",
    "    \n",
    "    return (fpr, tpr)"
   ]
  },
  {
   "cell_type": "code",
   "execution_count": 42,
   "id": "7198a73f",
   "metadata": {},
   "outputs": [],
   "source": [
    "def auc(y_true, y_score):\n",
    "    # compute tpr and fpr for each threshold\n",
    "    pts = []\n",
    "    for threshold in y_score:\n",
    "        pts.append(tpr_fpr(y_true, y_score, threshold))\n",
    "    \n",
    "    pts.sort(key=lambda pt: pt[0]) # sort points by fpr\n",
    "    \n",
    "    # use trapezoidal rule to calculate AUC\n",
    "    auc = 0\n",
    "    for j in range(len(y_score)-1):\n",
    "        auc += (pts[j+1][0] - pts[j][0]) * (pts[j+1][1] + pts[j][1]) / 2\n",
    "    \n",
    "    return auc"
   ]
  },
  {
   "cell_type": "code",
   "execution_count": 43,
   "id": "64b49263",
   "metadata": {},
   "outputs": [],
   "source": [
    "y_score = read_file_1('3.txt') # first file (predictions)\n",
    "y_true = read_file_2('4.txt') # second file (true labels)"
   ]
  },
  {
   "cell_type": "code",
   "execution_count": 44,
   "id": "295ff3e8-80d0-4692-8974-1ec004f17ea1",
   "metadata": {},
   "outputs": [
    {
     "data": {
      "text/plain": [
       "0.8333333333333334"
      ]
     },
     "execution_count": 44,
     "metadata": {},
     "output_type": "execute_result"
    }
   ],
   "source": [
    "auc(y_true, y_score)"
   ]
  },
  {
   "cell_type": "code",
   "execution_count": null,
   "id": "2ab02476-a588-4f8a-8e51-ffad33086675",
   "metadata": {},
   "outputs": [],
   "source": []
  }
 ],
 "metadata": {
  "kernelspec": {
   "display_name": "Python [conda env:cs411]",
   "language": "python",
   "name": "conda-env-cs411-py"
  },
  "language_info": {
   "codemirror_mode": {
    "name": "ipython",
    "version": 3
   },
   "file_extension": ".py",
   "mimetype": "text/x-python",
   "name": "python",
   "nbconvert_exporter": "python",
   "pygments_lexer": "ipython3",
   "version": "3.10.2"
  }
 },
 "nbformat": 4,
 "nbformat_minor": 5
}
