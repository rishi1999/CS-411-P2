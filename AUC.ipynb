{
 "cells": [
  {
   "cell_type": "code",
   "execution_count": 1,
   "id": "4330821b",
   "metadata": {},
   "outputs": [],
   "source": [
    "# process file 1\n",
    "# extract probabilities of being positive\n",
    "\n",
    "def read_file_1 (filename):\n",
    "    y_score = []\n",
    "    with open(filename) as f:\n",
    "        lines = f.readlines()\n",
    "        for line in lines:\n",
    "            line = line.split(',')\n",
    "            y_score.append(float(line[1]))\n",
    "    return y_score"
   ]
  },
  {
   "cell_type": "code",
   "execution_count": 2,
   "id": "4bf8fb41",
   "metadata": {},
   "outputs": [],
   "source": [
    "# process file 2\n",
    "# extract ground-truth labels (P or N) and change them to 1 or 0\n",
    "\n",
    "def read_file_2 (filename):\n",
    "    y_true = []\n",
    "    with open(filename) as f:\n",
    "        lines = f.readlines()\n",
    "        for line in lines:\n",
    "            line = line.split(',')\n",
    "            if line[1].strip() == 'P':\n",
    "                line[1] = 1\n",
    "            elif line[1].strip() == 'N':\n",
    "                line[1] = 0\n",
    "            y_true.append(line[1])\n",
    "    return y_true"
   ]
  },
  {
   "cell_type": "code",
   "execution_count": 3,
   "id": "083980f8",
   "metadata": {},
   "outputs": [],
   "source": [
    "# calculates true positive rate (tpr) and false positive rate (fpr)\n",
    "\n",
    "def tpr_fpr (y_true, y_score, threshold):\n",
    "    tp = 0\n",
    "    fn = 0\n",
    "    fp = 0\n",
    "    tn = 0\n",
    "    tpr = []\n",
    "    fpr = []\n",
    "\n",
    "    for i in range(len(y_score)):\n",
    "        if y_score[i] >= threshold: # classified positive \n",
    "            if y_true[i] == 1:\n",
    "                tp += 1\n",
    "            else:\n",
    "                fp += 1\n",
    "        elif y_score[i] < threshold: # classified negative\n",
    "            if y_true[i] == 1:\n",
    "                fn += 1\n",
    "            else:\n",
    "                tn += 1\n",
    "    \n",
    "    tpr = tp/(tp+fn)\n",
    "    fpr = fp/(tn+fp)\n",
    "    \n",
    "    return [fpr, tpr]    "
   ]
  },
  {
   "cell_type": "code",
   "execution_count": 4,
   "id": "02034459",
   "metadata": {},
   "outputs": [],
   "source": [
    "# calculate AUC \n",
    "\n",
    "def auc (y_true, y_score):\n",
    "    x = [] # fpr\n",
    "    y = [] # tpr\n",
    "    auc = 0\n",
    "\n",
    "    for i in range(101): # set thresholds to 0, 0.1, 0.2, ..., 1.0\n",
    "        x.append(tpr_fpr (y_true, y_score, i/100)[0])\n",
    "        y.append(tpr_fpr (y_true, y_score, i/100)[1])\n",
    "\n",
    "    # sort lists to avoid getting negative AUC\n",
    "    x.sort() \n",
    "    y.sort()\n",
    "    \n",
    "    # use trapezoidal rule to calculate AUC\n",
    "    for j in range(100):\n",
    "        auc += (x[j+1]-x[j])*(y[j+1]+y[j])/2\n",
    "    \n",
    "    return auc"
   ]
  },
  {
   "cell_type": "code",
   "execution_count": 5,
   "id": "1e071c9a",
   "metadata": {},
   "outputs": [
    {
     "data": {
      "text/plain": [
       "0.8333333333333334"
      ]
     },
     "execution_count": 5,
     "metadata": {},
     "output_type": "execute_result"
    }
   ],
   "source": [
    "y_score = read_file_1('3.txt') # first file (predictions)\n",
    "y_true = read_file_2('4.txt') # second file (true labels)\n",
    "auc(y_true, y_score)"
   ]
  }
 ],
 "metadata": {
  "kernelspec": {
   "display_name": "Python 3 (ipykernel)",
   "language": "python",
   "name": "python3"
  },
  "language_info": {
   "codemirror_mode": {
    "name": "ipython",
    "version": 3
   },
   "file_extension": ".py",
   "mimetype": "text/x-python",
   "name": "python",
   "nbconvert_exporter": "python",
   "pygments_lexer": "ipython3",
   "version": "3.9.7"
  }
 },
 "nbformat": 4,
 "nbformat_minor": 5
}
