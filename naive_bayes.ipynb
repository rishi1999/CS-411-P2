{
 "cells": [
  {
   "cell_type": "code",
   "execution_count": 17,
   "id": "b93e9ac6-85dd-4706-8931-fcad1d7ccf91",
   "metadata": {},
   "outputs": [],
   "source": [
    "from time import perf_counter\n",
    "from math import log\n",
    "from collections import defaultdict"
   ]
  },
  {
   "cell_type": "code",
   "execution_count": 18,
   "id": "d2929897-90a2-49bb-abe8-ab205594637b",
   "metadata": {},
   "outputs": [],
   "source": [
    "def safe_log(x):\n",
    "    return log(x) if x != 0 else float('-inf')"
   ]
  },
  {
   "cell_type": "code",
   "execution_count": 19,
   "id": "9e2a82a3-b693-4929-9d0d-71a95b380046",
   "metadata": {},
   "outputs": [],
   "source": [
    "def read_train(filename):\n",
    "    with open(filename) as f:\n",
    "        data = f.readlines()\n",
    "\n",
    "    n = len(data) - 1\n",
    "    \n",
    "    # read column headers\n",
    "    line = data[0].strip().split(\", \")\n",
    "    attr_vars = line[:-1]\n",
    "    class_var = line[-1]\n",
    "    \n",
    "    class_attr_counts = defaultdict( lambda: [defaultdict(int) for _ in attr_vars] )\n",
    "    class_counts = defaultdict(int)\n",
    "    \n",
    "    attr_domains = [set() for _ in attr_vars]\n",
    "    class_domain = set()\n",
    "\n",
    "    # read data and update counts\n",
    "    for line in data[1:]:\n",
    "        line = line.strip().split(\", \")\n",
    "        c = line[-1]\n",
    "        class_counts[c] += 1\n",
    "        class_domain.add(c)\n",
    "        for i, attr_val in enumerate(line[:-1]):\n",
    "            class_attr_counts[c][i][attr_val] += 1\n",
    "            attr_domains[i].add(attr_val)\n",
    "    \n",
    "    return n, attr_vars, class_var, class_attr_counts, class_counts, attr_domains, class_domain"
   ]
  },
  {
   "cell_type": "code",
   "execution_count": 20,
   "id": "00ac01b1-58bb-44c3-8e25-0d2ac7f58d8b",
   "metadata": {},
   "outputs": [],
   "source": [
    "def smoothed(smoothing, amt, val):\n",
    "    if smoothing:\n",
    "        return val + amt\n",
    "    else:\n",
    "        return val"
   ]
  },
  {
   "cell_type": "code",
   "execution_count": 21,
   "id": "ee8049b2-9c43-43f7-b8ed-f69adbca7cf4",
   "metadata": {},
   "outputs": [],
   "source": [
    "def model_str(n, attr_vars, class_var, class_attr_counts, class_counts, attr_domains, class_domain, smoothing):\n",
    "    res = []\n",
    "    \n",
    "    for c in class_domain:\n",
    "        res.append(f\"P({class_var}={c}) = {class_counts[c]/n}\")\n",
    "        for i, attr in enumerate(class_attr_counts[c]):\n",
    "            total_s = smoothed(smoothing, len(attr_domains[i]), sum(attr.values()))\n",
    "            for key in attr_domains[i]:\n",
    "                val_s = smoothed(smoothing, 1, attr[key])\n",
    "                res.append(f\"P({attr_vars[i]}={key} | {class_var}={c}) = {val_s / total_s}\")\n",
    "    \n",
    "    return '\\n'.join(res)"
   ]
  },
  {
   "cell_type": "code",
   "execution_count": 22,
   "id": "3444732b-3b0a-4d17-a146-065c76995d9b",
   "metadata": {},
   "outputs": [],
   "source": [
    "def classify(file_in, file_out, n, class_attr_counts, class_counts, attr_domains, class_domain, smoothing):\n",
    "    with open(file_in) as f:\n",
    "        data = f.readlines()\n",
    "    \n",
    "    res = []\n",
    "    \n",
    "    for line in data[1:]:\n",
    "        line = line.strip().split(\", \")\n",
    "        \n",
    "        likelihoods = {c: safe_log(class_counts[c]/n) for c in class_domain}  # logs are used to prevent numerical underflow\n",
    "        for c in class_domain:\n",
    "            for i, attr_val in enumerate(line):\n",
    "                likelihoods[c] += safe_log(smoothed(\n",
    "                    smoothing, \n",
    "                    1, \n",
    "                    class_attr_counts[c][i][attr_val]))\n",
    "                likelihoods[c] -= safe_log(smoothed(\n",
    "                    smoothing, \n",
    "                    len(attr_domains[i]), \n",
    "                    sum(class_attr_counts[c][i].values())))\n",
    "        \n",
    "        res.append(max(likelihoods, key=lambda x: likelihoods[x]))\n",
    "    \n",
    "    with open(file_out, 'w') as f:\n",
    "        f.write('\\n'.join(res))"
   ]
  },
  {
   "cell_type": "code",
   "execution_count": 26,
   "id": "4528e4f4-26c3-4e05-9dbc-3d7c1dfba384",
   "metadata": {},
   "outputs": [],
   "source": [
    "smoothing = True"
   ]
  },
  {
   "cell_type": "code",
   "execution_count": 27,
   "id": "313b7da1-67a4-47bd-96dd-0a70d0f00a26",
   "metadata": {},
   "outputs": [
    {
     "name": "stdout",
     "output_type": "stream",
     "text": [
      "time elapsed (s): 0.0021679999999832944\n",
      "\n",
      "P(C=banana) = 0.3125\n",
      "P(A1=a | C=banana) = 0.2222222222222222\n",
      "P(A1=c | C=banana) = 0.3333333333333333\n",
      "P(A1=b | C=banana) = 0.3333333333333333\n",
      "P(A1=d | C=banana) = 0.1111111111111111\n",
      "P(A2=o | C=banana) = 0.125\n",
      "P(A2=m | C=banana) = 0.125\n",
      "P(A2=n | C=banana) = 0.75\n",
      "P(A3=y | C=banana) = 0.2222222222222222\n",
      "P(A3=z | C=banana) = 0.1111111111111111\n",
      "P(A3=w | C=banana) = 0.2222222222222222\n",
      "P(A3=x | C=banana) = 0.4444444444444444\n",
      "P(C=cucumber) = 0.1875\n",
      "P(A1=a | C=cucumber) = 0.14285714285714285\n",
      "P(A1=c | C=cucumber) = 0.42857142857142855\n",
      "P(A1=b | C=cucumber) = 0.2857142857142857\n",
      "P(A1=d | C=cucumber) = 0.14285714285714285\n",
      "P(A2=o | C=cucumber) = 0.5\n",
      "P(A2=m | C=cucumber) = 0.3333333333333333\n",
      "P(A2=n | C=cucumber) = 0.16666666666666666\n",
      "P(A3=y | C=cucumber) = 0.14285714285714285\n",
      "P(A3=z | C=cucumber) = 0.2857142857142857\n",
      "P(A3=w | C=cucumber) = 0.42857142857142855\n",
      "P(A3=x | C=cucumber) = 0.14285714285714285\n",
      "P(C=apple) = 0.5\n",
      "P(A1=a | C=apple) = 0.4166666666666667\n",
      "P(A1=c | C=apple) = 0.16666666666666666\n",
      "P(A1=b | C=apple) = 0.25\n",
      "P(A1=d | C=apple) = 0.16666666666666666\n",
      "P(A2=o | C=apple) = 0.2727272727272727\n",
      "P(A2=m | C=apple) = 0.45454545454545453\n",
      "P(A2=n | C=apple) = 0.2727272727272727\n",
      "P(A3=y | C=apple) = 0.3333333333333333\n",
      "P(A3=z | C=apple) = 0.3333333333333333\n",
      "P(A3=w | C=apple) = 0.08333333333333333\n",
      "P(A3=x | C=apple) = 0.25\n"
     ]
    }
   ],
   "source": [
    "start = perf_counter()\n",
    "file_train = \"naive_bayes_train.txt\"\n",
    "n, attr_vars, class_var, class_attr_counts, class_counts, attr_domains, class_domain = read_train(file_train)\n",
    "train_res = model_str(n, attr_vars, class_var, class_attr_counts, class_counts, attr_domains, class_domain, smoothing)\n",
    "end = perf_counter()\n",
    "\n",
    "print(f\"time elapsed (s): {end - start}\\n\")\n",
    "print(train_res)"
   ]
  },
  {
   "cell_type": "code",
   "execution_count": 28,
   "id": "7479c354-ba6a-4bd4-ba8b-460a1b43951c",
   "metadata": {},
   "outputs": [
    {
     "name": "stdout",
     "output_type": "stream",
     "text": [
      "time elapsed (s): 0.00474949999988894\n",
      "\n",
      "written to file naive_bayes_output.txt\n"
     ]
    }
   ],
   "source": [
    "file_test = \"naive_bayes_test.txt\"\n",
    "file_out = \"naive_bayes_output.txt\"\n",
    "\n",
    "start = perf_counter()\n",
    "classify(file_test, file_out, n, class_attr_counts, class_counts, attr_domains, class_domain, smoothing)\n",
    "end = perf_counter()\n",
    "\n",
    "print(f\"time elapsed (s): {end - start}\\n\")\n",
    "print(f\"written to file {file_out}\")"
   ]
  },
  {
   "cell_type": "code",
   "execution_count": null,
   "id": "bfd8acf8-b589-43ff-ab56-f7a73d91c261",
   "metadata": {},
   "outputs": [],
   "source": []
  }
 ],
 "metadata": {
  "kernelspec": {
   "display_name": "Python [conda env:cs411]",
   "language": "python",
   "name": "conda-env-cs411-py"
  },
  "language_info": {
   "codemirror_mode": {
    "name": "ipython",
    "version": 3
   },
   "file_extension": ".py",
   "mimetype": "text/x-python",
   "name": "python",
   "nbconvert_exporter": "python",
   "pygments_lexer": "ipython3",
   "version": "3.10.2"
  }
 },
 "nbformat": 4,
 "nbformat_minor": 5
}
